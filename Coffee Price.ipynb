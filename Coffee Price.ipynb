{
 "cells": [
  {
   "cell_type": "code",
   "execution_count": 1,
   "id": "e39993bf-96c0-4a8b-a97e-8d8b29bfe186",
   "metadata": {},
   "outputs": [
    {
     "name": "stdout",
     "output_type": "stream",
     "text": [
      "1.3.4\n"
     ]
    }
   ],
   "source": [
    "# Import the numpy package under the name np\n",
    "import numpy as np\n",
    "\n",
    "# Import the pandas package under the name pd\n",
    "import pandas as pd\n",
    "\n",
    "# Import the matplotlib package under the name plt\n",
    "import matplotlib.pyplot as plt\n",
    "%matplotlib inline\n",
    "\n",
    "# Import the seaborn package under the name sns\n",
    "import seaborn as sns\n",
    "\n",
    "# Print the pandas version and the configuration\n",
    "print(pd.__version__)"
   ]
  },
  {
   "cell_type": "code",
   "execution_count": 3,
   "id": "92b6abf9-9462-4190-848d-e167cc0cc036",
   "metadata": {},
   "outputs": [],
   "source": [
    "#Load the data\n",
    "df = pd.read_csv('Desktop/Python Project/coffee.csv')"
   ]
  },
  {
   "cell_type": "code",
   "execution_count": 8,
   "id": "bef0bacf-4eae-4dd6-a8f4-0147eb3674b7",
   "metadata": {},
   "outputs": [
    {
     "data": {
      "text/plain": [
       "(5671, 7)"
      ]
     },
     "execution_count": 8,
     "metadata": {},
     "output_type": "execute_result"
    }
   ],
   "source": [
    "df.shape"
   ]
  },
  {
   "cell_type": "code",
   "execution_count": 7,
   "id": "00d4bb44-e42c-40d0-b8cf-4eaf31232904",
   "metadata": {},
   "outputs": [
    {
     "name": "stdout",
     "output_type": "stream",
     "text": [
      "<class 'pandas.core.frame.DataFrame'>\n",
      "RangeIndex: 5671 entries, 0 to 5670\n",
      "Data columns (total 7 columns):\n",
      " #   Column    Non-Null Count  Dtype  \n",
      "---  ------    --------------  -----  \n",
      " 0   Date      5671 non-null   object \n",
      " 1   Open      5671 non-null   float64\n",
      " 2   High      5671 non-null   float64\n",
      " 3   Low       5671 non-null   float64\n",
      " 4   Close     5671 non-null   float64\n",
      " 5   Volume    5671 non-null   int64  \n",
      " 6   Currency  5671 non-null   object \n",
      "dtypes: float64(4), int64(1), object(2)\n",
      "memory usage: 310.3+ KB\n"
     ]
    }
   ],
   "source": [
    "df.info()"
   ]
  },
  {
   "cell_type": "code",
   "execution_count": 5,
   "id": "b09690cb-40f0-4a72-bc8d-a2314a9ca82b",
   "metadata": {},
   "outputs": [
    {
     "data": {
      "text/html": [
       "<div>\n",
       "<style scoped>\n",
       "    .dataframe tbody tr th:only-of-type {\n",
       "        vertical-align: middle;\n",
       "    }\n",
       "\n",
       "    .dataframe tbody tr th {\n",
       "        vertical-align: top;\n",
       "    }\n",
       "\n",
       "    .dataframe thead th {\n",
       "        text-align: right;\n",
       "    }\n",
       "</style>\n",
       "<table border=\"1\" class=\"dataframe\">\n",
       "  <thead>\n",
       "    <tr style=\"text-align: right;\">\n",
       "      <th></th>\n",
       "      <th>Date</th>\n",
       "      <th>Open</th>\n",
       "      <th>High</th>\n",
       "      <th>Low</th>\n",
       "      <th>Close</th>\n",
       "      <th>Volume</th>\n",
       "      <th>Currency</th>\n",
       "    </tr>\n",
       "  </thead>\n",
       "  <tbody>\n",
       "    <tr>\n",
       "      <th>0</th>\n",
       "      <td>2000-01-03</td>\n",
       "      <td>122.25</td>\n",
       "      <td>124.00</td>\n",
       "      <td>116.10</td>\n",
       "      <td>116.50</td>\n",
       "      <td>6640</td>\n",
       "      <td>USD</td>\n",
       "    </tr>\n",
       "    <tr>\n",
       "      <th>1</th>\n",
       "      <td>2000-01-04</td>\n",
       "      <td>116.25</td>\n",
       "      <td>120.50</td>\n",
       "      <td>115.75</td>\n",
       "      <td>116.25</td>\n",
       "      <td>5492</td>\n",
       "      <td>USD</td>\n",
       "    </tr>\n",
       "    <tr>\n",
       "      <th>2</th>\n",
       "      <td>2000-01-05</td>\n",
       "      <td>115.00</td>\n",
       "      <td>121.00</td>\n",
       "      <td>115.00</td>\n",
       "      <td>118.60</td>\n",
       "      <td>6165</td>\n",
       "      <td>USD</td>\n",
       "    </tr>\n",
       "    <tr>\n",
       "      <th>3</th>\n",
       "      <td>2000-01-06</td>\n",
       "      <td>119.00</td>\n",
       "      <td>121.40</td>\n",
       "      <td>116.50</td>\n",
       "      <td>116.85</td>\n",
       "      <td>5094</td>\n",
       "      <td>USD</td>\n",
       "    </tr>\n",
       "    <tr>\n",
       "      <th>4</th>\n",
       "      <td>2000-01-07</td>\n",
       "      <td>117.25</td>\n",
       "      <td>117.75</td>\n",
       "      <td>113.80</td>\n",
       "      <td>114.15</td>\n",
       "      <td>6855</td>\n",
       "      <td>USD</td>\n",
       "    </tr>\n",
       "  </tbody>\n",
       "</table>\n",
       "</div>"
      ],
      "text/plain": [
       "         Date    Open    High     Low   Close  Volume Currency\n",
       "0  2000-01-03  122.25  124.00  116.10  116.50    6640      USD\n",
       "1  2000-01-04  116.25  120.50  115.75  116.25    5492      USD\n",
       "2  2000-01-05  115.00  121.00  115.00  118.60    6165      USD\n",
       "3  2000-01-06  119.00  121.40  116.50  116.85    5094      USD\n",
       "4  2000-01-07  117.25  117.75  113.80  114.15    6855      USD"
      ]
     },
     "execution_count": 5,
     "metadata": {},
     "output_type": "execute_result"
    }
   ],
   "source": [
    "df.head()"
   ]
  },
  {
   "cell_type": "code",
   "execution_count": 6,
   "id": "ce9c4ead-6d9e-4232-ab45-8eb6751a95d5",
   "metadata": {},
   "outputs": [
    {
     "data": {
      "text/html": [
       "<div>\n",
       "<style scoped>\n",
       "    .dataframe tbody tr th:only-of-type {\n",
       "        vertical-align: middle;\n",
       "    }\n",
       "\n",
       "    .dataframe tbody tr th {\n",
       "        vertical-align: top;\n",
       "    }\n",
       "\n",
       "    .dataframe thead th {\n",
       "        text-align: right;\n",
       "    }\n",
       "</style>\n",
       "<table border=\"1\" class=\"dataframe\">\n",
       "  <thead>\n",
       "    <tr style=\"text-align: right;\">\n",
       "      <th></th>\n",
       "      <th>Open</th>\n",
       "      <th>High</th>\n",
       "      <th>Low</th>\n",
       "      <th>Close</th>\n",
       "      <th>Volume</th>\n",
       "    </tr>\n",
       "  </thead>\n",
       "  <tbody>\n",
       "    <tr>\n",
       "      <th>count</th>\n",
       "      <td>5671.000000</td>\n",
       "      <td>5671.000000</td>\n",
       "      <td>5671.000000</td>\n",
       "      <td>5671.000000</td>\n",
       "      <td>5671.000000</td>\n",
       "    </tr>\n",
       "    <tr>\n",
       "      <th>mean</th>\n",
       "      <td>125.999004</td>\n",
       "      <td>127.555853</td>\n",
       "      <td>124.540275</td>\n",
       "      <td>125.944139</td>\n",
       "      <td>8742.679598</td>\n",
       "    </tr>\n",
       "    <tr>\n",
       "      <th>std</th>\n",
       "      <td>49.664030</td>\n",
       "      <td>50.234153</td>\n",
       "      <td>48.968859</td>\n",
       "      <td>49.593163</td>\n",
       "      <td>9594.479156</td>\n",
       "    </tr>\n",
       "    <tr>\n",
       "      <th>min</th>\n",
       "      <td>41.500000</td>\n",
       "      <td>42.000000</td>\n",
       "      <td>41.500000</td>\n",
       "      <td>41.500000</td>\n",
       "      <td>0.000000</td>\n",
       "    </tr>\n",
       "    <tr>\n",
       "      <th>25%</th>\n",
       "      <td>98.500000</td>\n",
       "      <td>99.675000</td>\n",
       "      <td>97.350000</td>\n",
       "      <td>98.325000</td>\n",
       "      <td>60.500000</td>\n",
       "    </tr>\n",
       "    <tr>\n",
       "      <th>50%</th>\n",
       "      <td>119.800000</td>\n",
       "      <td>121.050000</td>\n",
       "      <td>118.500000</td>\n",
       "      <td>119.800000</td>\n",
       "      <td>6936.000000</td>\n",
       "    </tr>\n",
       "    <tr>\n",
       "      <th>75%</th>\n",
       "      <td>142.975000</td>\n",
       "      <td>144.300000</td>\n",
       "      <td>141.150000</td>\n",
       "      <td>142.675000</td>\n",
       "      <td>14403.500000</td>\n",
       "    </tr>\n",
       "    <tr>\n",
       "      <th>max</th>\n",
       "      <td>305.300000</td>\n",
       "      <td>306.250000</td>\n",
       "      <td>304.000000</td>\n",
       "      <td>304.900000</td>\n",
       "      <td>62045.000000</td>\n",
       "    </tr>\n",
       "  </tbody>\n",
       "</table>\n",
       "</div>"
      ],
      "text/plain": [
       "              Open         High          Low        Close        Volume\n",
       "count  5671.000000  5671.000000  5671.000000  5671.000000   5671.000000\n",
       "mean    125.999004   127.555853   124.540275   125.944139   8742.679598\n",
       "std      49.664030    50.234153    48.968859    49.593163   9594.479156\n",
       "min      41.500000    42.000000    41.500000    41.500000      0.000000\n",
       "25%      98.500000    99.675000    97.350000    98.325000     60.500000\n",
       "50%     119.800000   121.050000   118.500000   119.800000   6936.000000\n",
       "75%     142.975000   144.300000   141.150000   142.675000  14403.500000\n",
       "max     305.300000   306.250000   304.000000   304.900000  62045.000000"
      ]
     },
     "execution_count": 6,
     "metadata": {},
     "output_type": "execute_result"
    }
   ],
   "source": [
    "df.describe()"
   ]
  },
  {
   "cell_type": "code",
   "execution_count": 9,
   "id": "4d9f81a4-4770-4f1e-af1a-ae9ee2e77893",
   "metadata": {},
   "outputs": [
    {
     "data": {
      "text/plain": [
       "5671"
      ]
     },
     "execution_count": 9,
     "metadata": {},
     "output_type": "execute_result"
    }
   ],
   "source": [
    "len(df.Date.unique())"
   ]
  },
  {
   "cell_type": "code",
   "execution_count": null,
   "id": "e285ebdd-7b9a-4991-b175-bae08aaeed91",
   "metadata": {},
   "outputs": [],
   "source": []
  }
 ],
 "metadata": {
  "kernelspec": {
   "display_name": "Python 3 (ipykernel)",
   "language": "python",
   "name": "python3"
  },
  "language_info": {
   "codemirror_mode": {
    "name": "ipython",
    "version": 3
   },
   "file_extension": ".py",
   "mimetype": "text/x-python",
   "name": "python",
   "nbconvert_exporter": "python",
   "pygments_lexer": "ipython3",
   "version": "3.9.7"
  }
 },
 "nbformat": 4,
 "nbformat_minor": 5
}
